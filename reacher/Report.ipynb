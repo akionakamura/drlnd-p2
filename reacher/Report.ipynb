{
 "cells": [
  {
   "cell_type": "markdown",
   "metadata": {},
   "source": [
    "## Project 2 Report - Continous Control\n",
    "\n",
    "- Author: Thiago Akio Nakamura\n",
    "- Date: May 2021\n",
    "- Repo: https://github.com/akionakamura/drlnd-p2"
   ]
  },
  {
   "cell_type": "markdown",
   "metadata": {},
   "source": [
    "### Introduction\n",
    "This document contains the report for the Project 2 of the Deep Reinforcement Learning Nano Degree from Udacity. The goal of this project is to train an reinforcement learning agent to for a continous control problem. This report explains the algorithms used, as well as the tests parameters and the obtained results. The reader is also encouraged to read through the source code, for the detailed implementations of the neural networks and the agent itself."
   ]
  },
  {
   "cell_type": "markdown",
   "metadata": {},
   "source": [
    "### The environment\n",
    "The `Reach` environment consists in a dual-jointed robotic arm that needs to follow a target location. A reward of +0.1 is provided for each step that the agent's hand is in the goal location. Thus, the goal of the agent is to maintain its position at the target location for as many time steps as possible. Its observation space has 33 variables corresponding to position, rotation, velocity, and angular velocities of the arm. The action space corresponds to 4 continuous variables varying between [-1, 1], where each corresponds to torque applicable to two joints.\n",
    "\n",
    "#### The Goal\n",
    "The task is episodic, and the used environment provides 20 arms simultaneously. So in order to solve the environment, the agent must get an average score averaged over the 20 agents of +30 over 100 consecutive episodes."
   ]
  },
  {
   "cell_type": "code",
   "execution_count": 1,
   "metadata": {},
   "outputs": [
    {
     "name": "stderr",
     "output_type": "stream",
     "text": [
      "/home/akio/.pyenv/versions/3.6.12/envs/drlnd-p2/lib/python3.6/site-packages/pandas/compat/__init__.py:120: UserWarning: Could not import the lzma module. Your installed Python is incomplete. Attempting to use lzma compression will result in a RuntimeError.\n",
      "  warnings.warn(msg)\n"
     ]
    }
   ],
   "source": [
    "import os\n",
    "import time\n",
    "from collections import deque\n",
    "from dataclasses import asdict\n",
    "\n",
    "from unityagents import UnityEnvironment\n",
    "import mlflow\n",
    "import numpy as np\n",
    "import torch\n",
    "\n",
    "from agents import MultiAgent\n",
    "from experiment import RunExperiments, RunConfig"
   ]
  },
  {
   "cell_type": "code",
   "execution_count": 2,
   "metadata": {},
   "outputs": [],
   "source": [
    "# Global constants for the project.\n",
    "# Number of episodes to train all agents.\n",
    "NUM_EPISODES = 500\n",
    "\n",
    "# Consecutive runs to average the scores.\n",
    "RESULT_WINDOW = 100\n",
    "\n",
    "# Minimum average score over the window to complete the project.\n",
    "MIN_AVERAGE_SCORE = 30"
   ]
  },
  {
   "cell_type": "code",
   "execution_count": 3,
   "metadata": {},
   "outputs": [],
   "source": [
    "experiments_to_run = RunExperiments(\n",
    "    learn_steps=[2],\n",
    "    sync_steps=[16],\n",
    "    batch_sizes=[32],\n",
    "    gammas=[0.99],\n",
    "    epsilon_decays=[0.99]\n",
    ")\n",
    "NUM_EXPERIMENTS = 8"
   ]
  },
  {
   "cell_type": "code",
   "execution_count": 4,
   "metadata": {},
   "outputs": [
    {
     "name": "stderr",
     "output_type": "stream",
     "text": [
      "INFO:unityagents:\n",
      "'Academy' started successfully!\n",
      "Unity Academy name: Academy\n",
      "        Number of Brains: 1\n",
      "        Number of External Brains : 1\n",
      "        Lesson number : 0\n",
      "        Reset Parameters :\n",
      "\t\tgoal_speed -> 1.0\n",
      "\t\tgoal_size -> 5.0\n",
      "Unity brain name: ReacherBrain\n",
      "        Number of Visual Observations (per agent): 0\n",
      "        Vector Observation space type: continuous\n",
      "        Vector Observation space size (per agent): 33\n",
      "        Number of stacked Vector Observation: 1\n",
      "        Vector Action space type: continuous\n",
      "        Vector Action space size (per agent): 4\n",
      "        Vector Action descriptions: , , , \n"
     ]
    }
   ],
   "source": [
    "env = UnityEnvironment(file_name='./Reacher_Linux/Reacher.x86_64')"
   ]
  },
  {
   "cell_type": "markdown",
   "metadata": {},
   "source": [
    "Environments contain **_brains_** which are responsible for deciding the actions of their associated agents. Here we check for the first brain available, and set it as the default brain we will be controlling from Python."
   ]
  },
  {
   "cell_type": "code",
   "execution_count": 5,
   "metadata": {},
   "outputs": [],
   "source": [
    "# get the default brain\n",
    "brain_name = env.brain_names[0]\n",
    "brain = env.brains[brain_name]"
   ]
  },
  {
   "cell_type": "code",
   "execution_count": 6,
   "metadata": {},
   "outputs": [
    {
     "name": "stdout",
     "output_type": "stream",
     "text": [
      "Number of agents: 20\n",
      "Size of each action: 4\n",
      "There are 20 agents. Each observes a state with length: 33\n",
      "The state for the first agent looks like: [ 0.00000000e+00 -4.00000000e+00  0.00000000e+00  1.00000000e+00\n",
      " -0.00000000e+00 -0.00000000e+00 -4.37113883e-08  0.00000000e+00\n",
      "  0.00000000e+00  0.00000000e+00  0.00000000e+00  0.00000000e+00\n",
      "  0.00000000e+00  0.00000000e+00 -1.00000000e+01  0.00000000e+00\n",
      "  1.00000000e+00 -0.00000000e+00 -0.00000000e+00 -4.37113883e-08\n",
      "  0.00000000e+00  0.00000000e+00  0.00000000e+00  0.00000000e+00\n",
      "  0.00000000e+00  0.00000000e+00  5.75471878e+00 -1.00000000e+00\n",
      "  5.55726624e+00  0.00000000e+00  1.00000000e+00  0.00000000e+00\n",
      " -1.68164849e-01]\n"
     ]
    }
   ],
   "source": [
    "# reset the environment\n",
    "env_info = env.reset(train_mode=True)[brain_name]\n",
    "\n",
    "# number of agents\n",
    "num_agents = len(env_info.agents)\n",
    "print('Number of agents:', num_agents)\n",
    "\n",
    "# size of each action\n",
    "action_size = brain.vector_action_space_size\n",
    "print('Size of each action:', action_size)\n",
    "\n",
    "# examine the state space \n",
    "states = env_info.vector_observations\n",
    "state_size = states.shape[1]\n",
    "print('There are {} agents. Each observes a state with length: {}'.format(states.shape[0], state_size))\n",
    "print('The state for the first agent looks like:', states[0])"
   ]
  },
  {
   "cell_type": "markdown",
   "metadata": {},
   "source": [
    "### Learning Algorithms\n",
    "\n",
    "The environment has both state and actions with continuous values, therefore we cannot use the traditional Q-Learning algorithms for learning. Looking specifically at algorithms designed to work with continuous actions, we are going to train an agent using Deep Deterministic Policy Gradient (DDPG) algorithm [1].\n",
    "\n",
    "#### DDPG\n",
    "\n",
    "The Deep Deterministic Policy Gradient (DDPG) that directly learns a policy, i.e., given a state, its output is directly the action to be taken (actor). Concurrently, an DDPG a Q-function to estimate the future return (critic). Therefore, the DDPG method fits within the Actor-Critic family of algorithms. To increase stability, both networks (actor and critic) have mirroring network, usually called target, that is always kept off-sync with the main network weights. In [this link](https://spinningup.openai.com/en/latest/algorithms/ddpg.html) you can find a fine introduction to the algorithm."
   ]
  },
  {
   "cell_type": "code",
   "execution_count": 7,
   "metadata": {},
   "outputs": [],
   "source": [
    "def train(num_episodes, env, agent):\n",
    "    all_scores = []\n",
    "    score_window = deque(maxlen=RESULT_WINDOW)\n",
    "    solved = False\n",
    "    best_mean_score = 0\n",
    "    \n",
    "    for episode_i in range(num_episodes):\n",
    "    \n",
    "        env_info = env.reset(train_mode=True)[brain_name]     # reset the environment    \n",
    "        states = env_info.vector_observations                  # get the current state (for each agent)\n",
    "        scores = np.zeros(num_agents)                          # initialize the score (for each agent)\n",
    "\n",
    "        while True:\n",
    "            actions = agent.act(states)\n",
    "            env_info = env.step(actions)[brain_name]           # send all actions to tne environment\n",
    "            next_states = env_info.vector_observations         # get next state (for each agent)\n",
    "            rewards = env_info.rewards                         # get reward (for each agent)\n",
    "            dones = env_info.local_done                        # see if episode finished\n",
    "\n",
    "            agent.step(states, actions, rewards, next_states, dones)\n",
    "\n",
    "            states = next_states                               # roll over states to next time step\n",
    "            scores += env_info.rewards                         # update the score (for each agent)\n",
    "            \n",
    "            if np.any(dones):                                  # exit loop if episode finished\n",
    "                break\n",
    "        \n",
    "        agent.episode_finished()\n",
    "        avg_score = np.mean(scores)\n",
    "        score_window.append(avg_score)\n",
    "        all_scores.append(avg_score)\n",
    "        \n",
    "        current_mean = np.mean(score_window)\n",
    "        if current_mean >= MIN_AVERAGE_SCORE:\n",
    "            solved = True\n",
    "        \n",
    "        if current_mean > best_mean_score:\n",
    "            best_mean_score = current_mean\n",
    "        mlflow.log_metric(\"current_mean\", current_mean, step=episode_i)\n",
    "        print(f\"\\r  Average score on episode {episode_i}: {current_mean}\", end=\"\")\n",
    "        \n",
    "    return all_scores, solved, best_mean_score, current_mean"
   ]
  },
  {
   "cell_type": "markdown",
   "metadata": {},
   "source": [
    "#### Training\n",
    "\n",
    "This class of Reinforcement Learning algorithms can be quite unstable and very sensitive to hyperparameters. Here, we designed an experiment to have several runs with different hyperparameters, and used [MLFlow](https://mlflow.org/) to track the results. The main hyperparameters tweaked were:\n",
    "\n",
    "1. `learn_step`: how many steps to take into the environment between each learning cycle. Values: `[1, 2, 4]`\n",
    "2. `sync_step`: how many steps to take into the environment between each synchronization between the weights of the local and target networks (both actor and critic). Values: `[8, 16, 32]`\n",
    "3. `batch_size`: how many samples to get from the replay buffer at each learning step. Values: `[16, 32, 64]`\n",
    "4. `gamma`: the discount factor. Values: `[0.95, 0.99]`\n",
    "5. `epsilon_decays`: how fast the added noise in the action decreases. Values: `[0.98, 0.99]`\n",
    "\n",
    "We ran a random search across the hypeparameter space, and the first set of hyperparameters the solved the environment were the following, and the ones used in this report:\n",
    "\n",
    "1. `learn_step=2`\n",
    "2. `sync_step=16`\n",
    "3. `batch_size=32`\n",
    "4. `gamma=0.99`\n",
    "5. `epsilon_decays=0.99`"
   ]
  },
  {
   "cell_type": "markdown",
   "metadata": {},
   "source": [
    "### Network Architecture\n",
    "#### Actor\n",
    "The actor network simply gets the state representation as input, and outputs directly the action to be takes (in continuous space), i.e., it represents the policy. The chosen architecture is pretty straight forward, with three fully-connected layers in a row. The hiddens layers have 128 neurons and ReLU activation function, whist the last layer has 4 units (action size) with `tanh` activation layer, leading to number between `[-1, 1]`. Follows the image representing this architecture.\n",
    "<img src=\"actor.png\">\n",
    "\n",
    "#### Critic\n",
    "The Critic network has a role to approximate the Q-function, and therefore receives as input both the state and the action. Its output is a single number representing the projected total return. The state value are first passed through a single fully-connected layer, which result is concatenated to the action tensor. From there on, with follow two more fully-connected layers. All hidden layers have 128 units, except the last, which has 64. Leaky ReLU was used as the activation function, but the output layer has a linear activation, so its value can extend to the real numbers set. Follows the image representing this architecture.\n",
    "<img src=\"critic.png\">"
   ]
  },
  {
   "cell_type": "code",
   "execution_count": 8,
   "metadata": {},
   "outputs": [
    {
     "name": "stdout",
     "output_type": "stream",
     "text": [
      "Running experiment 0 with config: RunConfig(learn_step=2, sync_step=16, batch_size=32, gamma=0.99, epsilon_decay=0.99)\n",
      "  Average score on episode 499: 37.71757915694639  Ran experiment in 98824.77815699577 seconds.\n",
      "  Best mean score of 37.859349153777586.\n",
      "  Latest mean score of 37.71757915694639.\n",
      "  Solved.\n",
      "CPU times: user 1d 9h 5min 39s, sys: 5min 30s, total: 1d 9h 11min 9s\n",
      "Wall time: 1d 3h 27min 4s\n"
     ]
    }
   ],
   "source": [
    "%%time\n",
    "\n",
    "experiment_scores = {}\n",
    "mlflow.set_experiment(\"reacher-ddpg\")\n",
    "for i, config in enumerate(experiments_to_run.get_configs(NUM_EXPERIMENTS)):\n",
    "    with mlflow.start_run(run_name=f\"Config {i}\"):\n",
    "        start_time = time.time()\n",
    "        config = experiments_to_run.get_random()\n",
    "        print(f\"Running experiment {i} with config: {config}\")\n",
    "        mlflow.log_params(asdict(config))\n",
    "        \n",
    "        agent = MultiAgent(\n",
    "            num_agents,\n",
    "            state_size,\n",
    "            action_size,\n",
    "            gamma=config.gamma,\n",
    "            learn_step=config.learn_step,\n",
    "            sync_step=config.sync_step,\n",
    "            epsilon_decay=config.epsilon_decay,\n",
    "            batch_size=config.batch_size\n",
    "        )\n",
    "\n",
    "        scores, solved, best_mean_score, last_mean_score = train(NUM_EPISODES, env, agent)\n",
    "        experiment_scores[config] = scores\n",
    "        end_time = time.time()\n",
    "        elapsed = end_time - start_time\n",
    "        print(f\"  Ran experiment in {elapsed} seconds.\")\n",
    "        print(f\"  Best mean score of {best_mean_score}.\")\n",
    "        print(f\"  Latest mean score of {last_mean_score}.\")\n",
    "        mlflow.log_metric(\"best_mean_score\", best_mean_score)\n",
    "        mlflow.log_metric(\"last_mean_score\", last_mean_score)\n",
    "\n",
    "        if solved:\n",
    "            print(\"  Solved.\")\n",
    "            os.makedirs(f\"./models/{i}/\", exist_ok=True)\n",
    "            torch.save(agent.actor_local.state_dict(), f\"./models/{i}/actor.pth\")\n",
    "            torch.save(agent.critic_local.state_dict(), f\"./models/{i}/critic.pth\")\n",
    "            break"
   ]
  },
  {
   "cell_type": "markdown",
   "metadata": {},
   "source": [
    "### Results\n"
   ]
  },
  {
   "cell_type": "code",
   "execution_count": 9,
   "metadata": {},
   "outputs": [
    {
     "data": {
      "image/png": "[encoded data removed]",
      "text/plain": [
       "<Figure size 1296x576 with 1 Axes>"
      ]
     },
     "metadata": {
      "needs_background": "light"
     },
     "output_type": "display_data"
    }
   ],
   "source": [
    "import matplotlib.pyplot as plt\n",
    "\n",
    "plt.figure(figsize=(18, 8))\n",
    "for c, scores in experiment_scores.items():\n",
    "    plt.plot(scores, label=c, alpha=0.7)\n",
    "    \n",
    "plt.title(\"Experiment Results\")\n",
    "plt.ylabel(\"Average Score\")\n",
    "plt.xlabel(\"Episode\")\n",
    "plt.legend(bbox_to_anchor=(0.5, -0.08))\n",
    "plt.grid()\n",
    "plt.show()"
   ]
  },
  {
   "cell_type": "markdown",
   "metadata": {},
   "source": [
    "Next follow a single block of code the load the trained agent and see one episode in the environment."
   ]
  },
  {
   "cell_type": "code",
   "execution_count": 11,
   "metadata": {},
   "outputs": [
    {
     "name": "stdout",
     "output_type": "stream",
     "text": [
      "Final score: 37.995499150734716\n"
     ]
    }
   ],
   "source": [
    "agent = MultiAgent(\n",
    "    num_agents,\n",
    "    state_size,\n",
    "    action_size,\n",
    "    epsilon_start=0.0,\n",
    "    min_epsilon=0.0)\n",
    "agent.actor_local.load_state_dict(torch.load(f\"./models/{i}/actor.pth\"))\n",
    "agent.actor_target.load_state_dict(torch.load(f\"./models/{i}/actor.pth\"))\n",
    "agent.critic_local.load_state_dict(torch.load(f\"./models/{i}/critic.pth\"))\n",
    "agent.critic_target.load_state_dict(torch.load(f\"./models/{i}/critic.pth\"))\n",
    "\n",
    "done = False\n",
    "env_info = env.reset(train_mode=False)[brain_name]\n",
    "states = env_info.vector_observations\n",
    "final_score = 0\n",
    "\n",
    "while not done:\n",
    "    actions = agent.act(states)\n",
    "    env_info = env.step(actions)[brain_name]\n",
    "    next_states = env_info.vector_observations\n",
    "    rewards = env_info.rewards\n",
    "    dones = env_info.local_done\n",
    "\n",
    "    states = next_states\n",
    "    final_score += np.mean(env_info.rewards)\n",
    "\n",
    "    if np.any(dones):\n",
    "        done = True\n",
    "\n",
    "print(f\"Final score: {final_score}\")"
   ]
  },
  {
   "cell_type": "markdown",
   "metadata": {},
   "source": [
    "When finished, you can close the environment."
   ]
  },
  {
   "cell_type": "code",
   "execution_count": null,
   "metadata": {},
   "outputs": [],
   "source": [
    "env.close()"
   ]
  },
  {
   "cell_type": "markdown",
   "metadata": {},
   "source": [
    "### Conclusion\n",
    "\n",
    "We trained a DDPG agent to solve the Reacher environment, with 20 arms. We ran several experiments to find a good hyperparameters set, and finally got an agent the surpassed the goal and solved the environment, with an peak average score of 37.86."
   ]
  },
  {
   "cell_type": "markdown",
   "metadata": {},
   "source": [
    "### Future Work\n",
    "\n",
    "For future works we could try to accelerate the training and execution of the algorithm, which was quite slow. For example, the winning agent took 27hrs to train for 500 epochs (on CPU), the running of several experiments was quite painful. Furthermore, we could try to implement other algorithms, such as PPO [2], A3C [3], and D4PG [4]."
   ]
  },
  {
   "cell_type": "markdown",
   "metadata": {},
   "source": [
    "### References"
   ]
  },
  {
   "cell_type": "markdown",
   "metadata": {},
   "source": [
    "1. [Continuous control with deep reinforcement learning](https://arxiv.org/abs/1509.02971)\n",
    "2. [Proximal Policy Optimization Algorithms](https://arxiv.org/pdf/1707.06347.pdf)\n",
    "3. [Asynchronous Methods for Deep Reinforcement Learning](https://arxiv.org/pdf/1602.01783.pdf)\n",
    "4. [Distributed Distributional Deterministic Policy Gradients](https://openreview.net/pdf?id=SyZipzbCb)"
   ]
  }
 ],
 "metadata": {
  "kernelspec": {
   "display_name": "Python 3",
   "language": "python",
   "name": "python3"
  },
  "language_info": {
   "codemirror_mode": {
    "name": "ipython",
    "version": 3
   },
   "file_extension": ".py",
   "mimetype": "text/x-python",
   "name": "python",
   "nbconvert_exporter": "python",
   "pygments_lexer": "ipython3",
   "version": "3.6.12"
  }
 },
 "nbformat": 4,
 "nbformat_minor": 4
}
